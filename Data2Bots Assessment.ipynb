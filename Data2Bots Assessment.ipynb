{
 "cells": [
  {
   "cell_type": "code",
   "execution_count": 1,
   "id": "46cc1972",
   "metadata": {},
   "outputs": [
    {
     "name": "stdout",
     "output_type": "stream",
     "text": [
      "Spark Successfully Initialised\n"
     ]
    }
   ],
   "source": [
    "'''\n",
    "Author : Oluwaloseyi Sufianu Sekoni\n",
    "Role: Data Engineer @ Data2Bots\n",
    "Date of Creation: 22nd May, 2023\n",
    "'''\n",
    "\n",
    "#Initialise Local Spark Instance\n",
    "import findspark\n",
    "findspark.init()\n",
    "\n",
    "#Import Supporting ETL libraries\n",
    "from datetime import datetime, date\n",
    "import pandas as pd\n",
    "from pyspark.sql import Row\n",
    "import botocore\n",
    "import boto3\n",
    "# import json\n",
    "\n",
    "# Define path to JDBC driver for onPrem DB \n",
    "PATH_TO_JAR_FILE = r\"C:\\SparkApp\\spark-3.4.0-bin-hadoop3\\jars\\postgresql-42.6.0.jar\"\n",
    "\n",
    "# create spark session\n",
    "from pyspark.sql import SparkSession\n",
    "spark = SparkSession \\\n",
    "    .builder \\\n",
    "    .master('local[1]')\\\n",
    "    .appName(\"Data2Bots_ETL\")\\\n",
    "    .config(\"spark.jars\", PATH_TO_JAR_FILE)\\\n",
    "    .getOrCreate()\n",
    "\n",
    "sc = spark.sparkContext\n",
    "\n",
    "spark\n",
    "\n",
    "print('Spark Successfully Initialised')"
   ]
  },
  {
   "cell_type": "code",
   "execution_count": 2,
   "id": "9f8ca439",
   "metadata": {},
   "outputs": [
    {
     "data": {
      "text/html": [
       "\n",
       "            <div>\n",
       "                <p><b>SparkSession - in-memory</b></p>\n",
       "                \n",
       "        <div>\n",
       "            <p><b>SparkContext</b></p>\n",
       "\n",
       "            <p><a href=\"http://THANOS:4040\">Spark UI</a></p>\n",
       "\n",
       "            <dl>\n",
       "              <dt>Version</dt>\n",
       "                <dd><code>v3.4.0</code></dd>\n",
       "              <dt>Master</dt>\n",
       "                <dd><code>local[1]</code></dd>\n",
       "              <dt>AppName</dt>\n",
       "                <dd><code>Data2Bots_ETL</code></dd>\n",
       "            </dl>\n",
       "        </div>\n",
       "        \n",
       "            </div>\n",
       "        "
      ],
      "text/plain": [
       "<pyspark.sql.session.SparkSession at 0x1f3409ad880>"
      ]
     },
     "execution_count": 2,
     "metadata": {},
     "output_type": "execute_result"
    }
   ],
   "source": [
    "spark"
   ]
  },
  {
   "cell_type": "code",
   "execution_count": 3,
   "id": "e0bfc826",
   "metadata": {},
   "outputs": [
    {
     "name": "stdout",
     "output_type": "stream",
     "text": [
      "Completed Sucessfully\n"
     ]
    }
   ],
   "source": [
    "from botocore import UNSIGNED\n",
    "from botocore.client import Config\n",
    "\n",
    "s3 = boto3.client('s3', config=Config(signature_version=UNSIGNED), region_name = 'eu-central-1')\n",
    "# Use the client\n",
    "\n",
    "print('Completed Sucessfully')"
   ]
  },
  {
   "cell_type": "code",
   "execution_count": 4,
   "id": "3f454389",
   "metadata": {},
   "outputs": [
    {
     "name": "stdout",
     "output_type": "stream",
     "text": [
      "The bucket exists\n",
      "Connection to AWS S3 is successful\n"
     ]
    }
   ],
   "source": [
    "bucket =s3.list_objects_v2(Bucket='d2b-internal-assessment-bucket')\n",
    "\n",
    "if bucket['Name'] == 'd2b-internal-assessment-bucket':\n",
    "    print(\"The bucket exists\")\n",
    "else:\n",
    "    print(\"The bucket does not exist\")\n",
    "\n",
    "print('Connection to AWS S3 is successful')"
   ]
  },
  {
   "cell_type": "code",
   "execution_count": 5,
   "id": "e7214a24",
   "metadata": {},
   "outputs": [],
   "source": [
    "#Connect to Bucket containing json files\n",
    "response = s3.list_objects_v2(Bucket='d2b-internal-assessment-bucket')\n",
    "\n",
    "# Get Bucket Contents\n",
    "files = response.get(\"Contents\")"
   ]
  },
  {
   "cell_type": "code",
   "execution_count": 46,
   "id": "2b8e8314",
   "metadata": {},
   "outputs": [
    {
     "name": "stdout",
     "output_type": "stream",
     "text": [
      "Load Function Created Successfully\n"
     ]
    }
   ],
   "source": [
    "#Define Destination Connection to AWS PostgresDB amd Load Operation as a Function\n",
    "def jdbc_load_function(to_load, write_mode, tab_name):\n",
    "    servername = \"d2b-internal-assessment-dwh.cxeuj0ektqdz.eu-central-1.rds.amazonaws.com\"\n",
    "    portnumber = 5432\n",
    "    dbname = \"d2b_assessment\"\n",
    "    username = \"oluwseko3351\"\n",
    "    password = \"QWjmGssQaY\"\n",
    "\n",
    "    URL = f\"jdbc:postgresql://{servername}:{portnumber}/{dbname}\"\n",
    "    print('JDBC URL Created')\n",
    "\n",
    "    load_query = '''{to_load}.write.mode(\"{write_mode}\")\\\n",
    "    .format(\"jdbc\")\\\n",
    "    .option(\"url\",URL)\\\n",
    "    .option(\"dbtable\", \"oluwseko3351_staging.{tab_name}\")\\\n",
    "    .option(\"user\", username)\\\n",
    "    .option(\"password\", \"QWjmGssQaY\")\\\n",
    "    .option(\"driver\", \"org.postgresql.Driver\")\\\n",
    "    .save()'''.format(to_load = \"dataset\",write_mode=write_mode, tab_name = tab_name)\n",
    "\n",
    "    exec(load_query)\n",
    "    \n",
    "    final_message = '''Table Loading is Complete.\\n\\nPlease check PostgresDB for table:{tab_name}\\n\\nTables was generated from:{tab_name}.csv\n",
    "    '''.format(tab_name=tab_name)\n",
    "    \n",
    "    print(final_message)\n",
    "    \n",
    "print('Load Function Created Successfully')"
   ]
  },
  {
   "cell_type": "code",
   "execution_count": 45,
   "id": "a2b5f30c",
   "metadata": {},
   "outputs": [
    {
     "name": "stdout",
     "output_type": "stream",
     "text": [
      "File is a csv: 'orders_data/orders.csv'\n",
      "orders\n",
      "orders\n",
      "File downloaded\n",
      "JDBC URL Created\n",
      "Table Loading is Complete.\n",
      "\n",
      "Please check onPrem DB for table:orders\n",
      "\n",
      "Tables was generated from:orders.json\n",
      "    \n",
      "File is a csv: 'orders_data/reviews.csv'\n",
      "reviews\n",
      "reviews\n",
      "File downloaded\n",
      "JDBC URL Created\n",
      "Table Loading is Complete.\n",
      "\n",
      "Please check onPrem DB for table:reviews\n",
      "\n",
      "Tables was generated from:reviews.json\n",
      "    \n",
      "File is a csv: 'orders_data/shipment_deliveries.csv'\n",
      "shipment_deliveries\n",
      "shipment_deliveries\n",
      "File downloaded\n",
      "JDBC URL Created\n",
      "Table Loading is Complete.\n",
      "\n",
      "Please check onPrem DB for table:shipment_deliveries\n",
      "\n",
      "Tables was generated from:shipment_deliveries.json\n",
      "    \n"
     ]
    }
   ],
   "source": [
    "bucket_name = \"d2b-internal-assessment-bucket\"\n",
    "\n",
    "for file in files:\n",
    "#Store file name as a variable\n",
    "    table_name = str(file['Key'])  \n",
    "    #check for .json files only\n",
    "    if table_name.endswith('.csv') == True:\n",
    "        if table_name.startswith('orders_data/orders') == True or  table_name.startswith('orders_data/reviews') == True or  table_name.startswith('orders_data/shipment_deliveries') == True:        \n",
    "            print(\"File is a csv: '{file}'\".format(file=table_name))\n",
    "            dataset = (table_name.split('/')[1]).split('.')[0]\n",
    "            tab_name = str((table_name.split('/')[1]).split('.')[0])\n",
    "            print(tab_name)\n",
    "            print(dataset)\n",
    "\n",
    "            download_string = '''s3.download_file(Bucket=bucket_name, \n",
    "            Key='{table_name}', Filename=r\"/Users/Oluwaloseyi Sekoni/csvstaging/{table_name}\")'''.format(table_name=table_name)\n",
    "        \n",
    "            exec(download_string)\n",
    "            print('File downloaded')\n",
    "            \n",
    "            read_string = '''dataset = spark.read.format(\"csv\") \\\n",
    "            .option(\"header\",\"true\").load(r\"/Users/Oluwaloseyi Sekoni/csvstaging/{table_name}\")\n",
    "            '''.format(table_name = table_name)\n",
    "        \n",
    "            exec(read_string)\n",
    "            \n",
    "            jdbc_load_function(dataset, \"overwrite\",tab_name)\n",
    "            \n",
    "            #dataset.printSchema()\n",
    "            #dataset.show()\n",
    "            "
   ]
  },
  {
   "cell_type": "code",
   "execution_count": 63,
   "id": "fe9c95d0",
   "metadata": {},
   "outputs": [
    {
     "name": "stdout",
     "output_type": "stream",
     "text": [
      "JDBC URL Created\n",
      "Question 1 Complete\n"
     ]
    }
   ],
   "source": [
    "Q1_query = '''(SELECT CURRENT_DATE ingestion_date ,\n",
    "SUM(CASE WHEN TO_CHAR(to_date(a.order_date, 'YYYY-MM-DD'), 'Mon') = 'Jan' THEN 1 else 0 end) tt_order_hol_jan,\n",
    "SUM(CASE WHEN TO_CHAR(to_date(a.order_date, 'YYYY-MM-DD'), 'Mon') = 'Feb' THEN 1 else 0 end) tt_order_hol_feb,\n",
    "SUM(CASE WHEN TO_CHAR(to_date(a.order_date, 'YYYY-MM-DD'), 'Mon') = 'Mar' THEN 1 else 0 end) tt_order_hol_mar,\n",
    "SUM(CASE WHEN TO_CHAR(to_date(a.order_date, 'YYYY-MM-DD'), 'Mon') = 'Apr' THEN 1 else 0 end) tt_order_hol_apr,\n",
    "SUM(CASE WHEN TO_CHAR(to_date(a.order_date, 'YYYY-MM-DD'), 'Mon') = 'May' THEN 1 else 0 end) tt_order_hol_may,\n",
    "SUM(CASE WHEN TO_CHAR(to_date(a.order_date, 'YYYY-MM-DD'), 'Mon') = 'Jun' THEN 1 else 0 end) tt_order_hol_jun,\n",
    "SUM(CASE WHEN TO_CHAR(to_date(a.order_date, 'YYYY-MM-DD'), 'Mon') = 'Jul' THEN 1 else 0 end) tt_order_hol_jul,\n",
    "SUM(CASE WHEN TO_CHAR(to_date(a.order_date, 'YYYY-MM-DD'), 'Mon') = 'Aug' THEN 1 else 0 end) tt_order_hol_aug,\n",
    "SUM(CASE WHEN TO_CHAR(to_date(a.order_date, 'YYYY-MM-DD'), 'Mon') = 'Sep' THEN 1 else 0 end) tt_order_hol_sep,\n",
    "SUM(CASE WHEN TO_CHAR(to_date(a.order_date, 'YYYY-MM-DD'), 'Mon') = 'Oct' THEN 1 else 0 end) tt_order_hol_oct,\n",
    "SUM(CASE WHEN TO_CHAR(to_date(a.order_date, 'YYYY-MM-DD'), 'Mon') = 'Nov' THEN 1 else 0 end) tt_order_hol_nov,\n",
    "SUM(CASE WHEN TO_CHAR(to_date(a.order_date, 'YYYY-MM-DD'), 'Mon') = 'Dec' THEN 1 else 0 end) tt_order_hol_dec\n",
    "FROM oluwseko3351_staging.orders a, if_common.dim_dates b\n",
    "where to_date(a.order_date, 'YYYY-MM-DD') = b.calendar_dt and day_of_the_week_num between 1 and 5 and working_day is false\n",
    "GROUP BY CURRENT_DATE) foo'''\n",
    "\n",
    "servername = \"d2b-internal-assessment-dwh.cxeuj0ektqdz.eu-central-1.rds.amazonaws.com\"\n",
    "portnumber = 5432\n",
    "dbname = \"d2b_assessment\"\n",
    "username = \"oluwseko3351\"\n",
    "password = \"QWjmGssQaY\"\n",
    "\n",
    "URL = f\"jdbc:postgresql://{servername}:{portnumber}/{dbname}\"\n",
    "print('JDBC URL Created')\n",
    "\n",
    "q1_read_query = '''q1_dataframe=spark.read\\\n",
    ".format(\"jdbc\")\\\n",
    ".option(\"url\",URL)\\\n",
    ".option(\"dbtable\",Q1_query )\\\n",
    ".option(\"user\", username)\\\n",
    ".option(\"password\", \"QWjmGssQaY\")\\\n",
    ".option(\"driver\", \"org.postgresql.Driver\")\\\n",
    ".load()'''\n",
    "\n",
    "exec(q1_read_query)\n",
    "\n",
    "load_query = '''{to_load}.write.mode(\"{write_mode}\")\\\n",
    "    .format(\"jdbc\")\\\n",
    "    .option(\"url\",URL)\\\n",
    "    .option(\"dbtable\", \"oluwseko3351_analytics.{tab_name}\")\\\n",
    "    .option(\"user\", username)\\\n",
    "    .option(\"password\", \"QWjmGssQaY\")\\\n",
    "    .option(\"driver\", \"org.postgresql.Driver\")\\\n",
    "    .save()'''.format(to_load = \"q1_dataframe\",write_mode=\"overwrite\", tab_name = \"agg_public_holiday\")\n",
    "\n",
    "exec(load_query)\n",
    "\n",
    "print('Question 1 Complete')"
   ]
  },
  {
   "cell_type": "code",
   "execution_count": 65,
   "id": "db387934",
   "metadata": {},
   "outputs": [
    {
     "name": "stdout",
     "output_type": "stream",
     "text": [
      "JDBC URL Created\n",
      "Question 2 Complete\n"
     ]
    }
   ],
   "source": [
    "Q2_query = '''(select CURRENT_DATE ingestion_date, \n",
    "(select COUNT(*)FROM oluwseko3351_staging.orders a, oluwseko3351_staging.shipment_deliveries b\n",
    "where a.order_id = b.order_id and to_date(b.shipment_date, 'YYYY-MM-DD') >= to_date(a.order_date, 'YYYY-MM-DD') +6\n",
    "and delivery_date is NULL) tt_late_shipments,\n",
    "(select COUNT(*) FROM oluwseko3351_staging.orders a, oluwseko3351_staging.shipment_deliveries b\n",
    "where a.order_id = b.order_id and CURRENT_DATE >= to_date(a.order_date, 'YYYY-MM-DD') +15\n",
    "and delivery_date is NULL and b.shipment_date is NULL) tt_undelivered_items) query'''\n",
    "\n",
    "servername = \"d2b-internal-assessment-dwh.cxeuj0ektqdz.eu-central-1.rds.amazonaws.com\"\n",
    "portnumber = 5432\n",
    "dbname = \"d2b_assessment\"\n",
    "username = \"oluwseko3351\"\n",
    "password = \"QWjmGssQaY\"\n",
    "\n",
    "URL = f\"jdbc:postgresql://{servername}:{portnumber}/{dbname}\"\n",
    "print('JDBC URL Created')\n",
    "\n",
    "q1_read_query = '''q2_dataframe=spark.read\\\n",
    ".format(\"jdbc\")\\\n",
    ".option(\"url\",URL)\\\n",
    ".option(\"dbtable\",Q2_query )\\\n",
    ".option(\"user\", username)\\\n",
    ".option(\"password\", \"QWjmGssQaY\")\\\n",
    ".option(\"driver\", \"org.postgresql.Driver\")\\\n",
    ".load()'''\n",
    "\n",
    "exec(q1_read_query)\n",
    "\n",
    "load_query = '''{to_load}.write.mode(\"{write_mode}\")\\\n",
    "    .format(\"jdbc\")\\\n",
    "    .option(\"url\",URL)\\\n",
    "    .option(\"dbtable\", \"oluwseko3351_analytics.{tab_name}\")\\\n",
    "    .option(\"user\", username)\\\n",
    "    .option(\"password\", \"QWjmGssQaY\")\\\n",
    "    .option(\"driver\", \"org.postgresql.Driver\")\\\n",
    "    .save()'''.format(to_load = \"q2_dataframe\",write_mode=\"overwrite\", tab_name = \"agg_shipments\")\n",
    "\n",
    "exec(load_query)\n",
    "\n",
    "print('Question 2 Complete')"
   ]
  },
  {
   "cell_type": "code",
   "execution_count": 67,
   "id": "b672a9c9",
   "metadata": {},
   "outputs": [
    {
     "name": "stdout",
     "output_type": "stream",
     "text": [
      "JDBC URL Created\n",
      "Question 3 Complete\n"
     ]
    }
   ],
   "source": [
    "Q3_query = '''(select CURRENT_DATE ingestion_date,\n",
    "(select product_name from if_common.dim_products a where product_id =\n",
    "(select product_id from (select product_id, count(*) FROM oluwseko3351_staging.reviews group by product_id order by 2 desc\n",
    "LIMIT 1) foo)::INTEGER) product_name,\n",
    "(select order_date from \n",
    "(select to_date(a.order_date, 'YYYY-MM-DD') order_date, count(*) count FROM oluwseko3351_staging.orders a where product_id =\n",
    "(select product_id from (select product_id, count(*) FROM oluwseko3351_staging.reviews group by product_id order by 2 desc\n",
    "LIMIT 1) foo) group by to_date(a.order_date, 'YYYY-MM-DD') order by 2 desc LIMIT 1)foo) most_ordered_day,\n",
    "(select CASE WHEN day_of_the_week_num between 1 and 5 and working_day is false THEN true else false end as is_public_holiday \n",
    "from if_common.dim_dates where calendar_dt = (select order_date from \n",
    "(select to_date(a.order_date, 'YYYY-MM-DD') order_date, count(*) count FROM oluwseko3351_staging.orders a where product_id =\n",
    "(select product_id from (select product_id, count(*) FROM oluwseko3351_staging.reviews group by product_id order by 2 desc\n",
    "LIMIT 1) foo) group by to_date(a.order_date, 'YYYY-MM-DD') order by 2 desc LIMIT 1)foo)) is_public_holiday,\n",
    "(select sum from (select product_id, count(*) COUNT, SUM(review::INTEGER) SUM FROM oluwseko3351_staging.reviews group by product_id order by 2 desc\n",
    "LIMIT 1) foo) tt_review_points,\n",
    "(select pct_one_star_review from( \n",
    "select product_id, count(*) count, \n",
    "(sum(case when review = '1' then 1 else 0 end)::decimal /count(*)::decimal )*100 pct_one_star_review\n",
    "FROM oluwseko3351_staging.reviews group by product_id order by 2 desc\n",
    "LIMIT 1) foo) pct_one_star_review,\n",
    "(select pct_two_star_review from( \n",
    "select product_id, count(*) count, \n",
    "(sum(case when review = '2' then 1 else 0 end)::decimal /count(*)::decimal )*100 pct_two_star_review\n",
    "FROM oluwseko3351_staging.reviews group by product_id order by 2 desc\n",
    "LIMIT 1) foo) pct_two_star_review,\n",
    "(select pct_three_star_review from( \n",
    "select product_id, count(*) count, \n",
    "(sum(case when review = '3' then 1 else 0 end)::decimal /count(*)::decimal )*100 pct_three_star_review\n",
    "FROM oluwseko3351_staging.reviews group by product_id order by 2 desc\n",
    "LIMIT 1) foo) pct_three_star_review,\n",
    "(select pct_four_star_review from( \n",
    "select product_id, count(*) count, \n",
    "(sum(case when review = '4' then 1 else 0 end)::decimal /count(*)::decimal )*100 pct_four_star_review\n",
    "FROM oluwseko3351_staging.reviews group by product_id order by 2 desc\n",
    "LIMIT 1) foo) pct_four_star_review,\n",
    "(select pct_five_star_review from( \n",
    "select product_id, count(*) count, \n",
    "(sum(case when review = '3' then 1 else 0 end)::decimal /count(*)::decimal )*100 pct_five_star_review\n",
    "FROM oluwseko3351_staging.reviews group by product_id order by 2 desc\n",
    "LIMIT 1) foo) pct_five_star_review,\n",
    "(SELECT ((select COUNT(*)FROM oluwseko3351_staging.orders a, oluwseko3351_staging.shipment_deliveries b\n",
    "where product_id =(select product_id from (select product_id, count(*) FROM oluwseko3351_staging.reviews group by product_id order by 2 desc\n",
    "LIMIT 1) foo)  and a.order_id = b.order_id and to_date(b.shipment_date, 'YYYY-MM-DD') < to_date(a.order_date, 'YYYY-MM-DD') +6\n",
    "and delivery_date is NOT NULL)::decimal/(select COUNT(*)FROM oluwseko3351_staging.orders where product_id = (select product_id from (select product_id, count(*) FROM oluwseko3351_staging.reviews group by product_id order by 2 desc\n",
    "LIMIT 1) foo))::decimal) * 100) pct_early_shipments,\n",
    "(SELECT ((select COUNT(*)FROM oluwseko3351_staging.orders a, oluwseko3351_staging.shipment_deliveries b\n",
    "where product_id =(select product_id from (select product_id, count(*) FROM oluwseko3351_staging.reviews group by product_id order by 2 desc\n",
    "LIMIT 1) foo)  and a.order_id = b.order_id and to_date(b.shipment_date, 'YYYY-MM-DD') >= to_date(a.order_date, 'YYYY-MM-DD') +6\n",
    "and delivery_date is NULL)::decimal/(select COUNT(*)FROM oluwseko3351_staging.orders where product_id = (select product_id from (select product_id, count(*) FROM oluwseko3351_staging.reviews group by product_id order by 2 desc\n",
    "LIMIT 1) foo))::decimal) * 100) pct_late_shipments) query'''\n",
    "\n",
    "servername = \"d2b-internal-assessment-dwh.cxeuj0ektqdz.eu-central-1.rds.amazonaws.com\"\n",
    "portnumber = 5432\n",
    "dbname = \"d2b_assessment\"\n",
    "username = \"oluwseko3351\"\n",
    "password = \"QWjmGssQaY\"\n",
    "\n",
    "URL = f\"jdbc:postgresql://{servername}:{portnumber}/{dbname}\"\n",
    "print('JDBC URL Created')\n",
    "\n",
    "q1_read_query = '''q3_dataframe=spark.read\\\n",
    ".format(\"jdbc\")\\\n",
    ".option(\"url\",URL)\\\n",
    ".option(\"dbtable\",Q3_query )\\\n",
    ".option(\"user\", username)\\\n",
    ".option(\"password\", \"QWjmGssQaY\")\\\n",
    ".option(\"driver\", \"org.postgresql.Driver\")\\\n",
    ".load()'''\n",
    "\n",
    "exec(q1_read_query)\n",
    "\n",
    "load_query = '''{to_load}.write.mode(\"{write_mode}\")\\\n",
    "    .format(\"jdbc\")\\\n",
    "    .option(\"url\",URL)\\\n",
    "    .option(\"dbtable\", \"oluwseko3351_analytics.{tab_name}\")\\\n",
    "    .option(\"user\", username)\\\n",
    "    .option(\"password\", \"QWjmGssQaY\")\\\n",
    "    .option(\"driver\", \"org.postgresql.Driver\")\\\n",
    "    .save()'''.format(to_load = \"q3_dataframe\",write_mode=\"overwrite\", tab_name = \"best_performing_product\")\n",
    "\n",
    "exec(load_query)\n",
    "\n",
    "print('Question 3 Complete')"
   ]
  }
 ],
 "metadata": {
  "kernelspec": {
   "display_name": "Python 3 (ipykernel)",
   "language": "python",
   "name": "python3"
  },
  "language_info": {
   "codemirror_mode": {
    "name": "ipython",
    "version": 3
   },
   "file_extension": ".py",
   "mimetype": "text/x-python",
   "name": "python",
   "nbconvert_exporter": "python",
   "pygments_lexer": "ipython3",
   "version": "3.9.12"
  }
 },
 "nbformat": 4,
 "nbformat_minor": 5
}
